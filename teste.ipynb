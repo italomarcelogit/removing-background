{
 "cells": [
  {
   "cell_type": "code",
   "execution_count": 24,
   "metadata": {},
   "outputs": [],
   "source": [
    "from PIL import Image\n",
    "from rembg import remove\n",
    "from time import sleep"
   ]
  },
  {
   "cell_type": "code",
   "execution_count": 25,
   "metadata": {},
   "outputs": [],
   "source": [
    "fotos_cbg = []\n",
    "fotos_sbg = []\n",
    "\n",
    "for i in range(1, 5):\n",
    "    foto1 = f'imgs/{i}.png'\n",
    "    foto2 = f'imgs/{i}-sbg.png'\n",
    "    try:\n",
    "        remove(Image.open(foto1)).save(foto2)\n",
    "        fotos_cbg.append(foto1)\n",
    "        fotos_sbg.append(foto2)\n",
    "    except:\n",
    "        pass"
   ]
  },
  {
   "cell_type": "code",
   "execution_count": 26,
   "metadata": {},
   "outputs": [],
   "source": [
    "def geraImg(fotos):\n",
    "    imagens = [Image.open(x) for x in fotos]\n",
    "    w, h = zip(*(i.size for i in imagens))\n",
    "    total_w = sum(w)\n",
    "    min_h = min(h)\n",
    "    cbg = Image.new('RGB', (total_w, min_h))\n",
    "\n",
    "    x_offset = 0\n",
    "    for im in imagens:\n",
    "        cbg.paste(im, (x_offset, 0))\n",
    "        x_offset += im.size[0]\n",
    "    imagem = 'imgs/teste.png'\n",
    "\n",
    "    cbg.save(imagem)\n",
    "    Image.open(imagem).show()"
   ]
  },
  {
   "cell_type": "code",
   "execution_count": 27,
   "metadata": {},
   "outputs": [],
   "source": [
    "geraImg(fotos_cbg)\n",
    "geraImg(fotos_sbg)"
   ]
  }
 ],
 "metadata": {
  "kernelspec": {
   "display_name": "Python 3.8.2 ('venv': venv)",
   "language": "python",
   "name": "python3"
  },
  "language_info": {
   "codemirror_mode": {
    "name": "ipython",
    "version": 3
   },
   "file_extension": ".py",
   "mimetype": "text/x-python",
   "name": "python",
   "nbconvert_exporter": "python",
   "pygments_lexer": "ipython3",
   "version": "3.8.2"
  },
  "orig_nbformat": 4,
  "vscode": {
   "interpreter": {
    "hash": "654d6d67525114fe196bf92fcff30eb8e50cca1e9de9932efa5fbbb1bd12ff51"
   }
  }
 },
 "nbformat": 4,
 "nbformat_minor": 2
}
